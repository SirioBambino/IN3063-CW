{
 "cells": [
  {
   "cell_type": "markdown",
   "id": "1ecaa3f5",
   "metadata": {},
   "source": [
    "# Task 2"
   ]
  },
  {
   "cell_type": "markdown",
   "id": "27766543",
   "metadata": {},
   "source": [
    "This notebook will compare how different parameters affect a neural network that I implemented for Task 2."
   ]
  },
  {
   "cell_type": "code",
   "execution_count": 1,
   "id": "f137ca12",
   "metadata": {},
   "outputs": [],
   "source": [
    "#Allows me to import the modules in the src folder\n",
    "#Code from https://stackoverflow.com/questions/34478398/import-local-function-from-a-module-housed-in-another-directory-with-relative-im\n",
    "import os\n",
    "import sys\n",
    "module_path = os.path.abspath(os.path.join('..'))\n",
    "if module_path not in sys.path:\n",
    "    sys.path.append(module_path)"
   ]
  },
  {
   "cell_type": "code",
   "execution_count": 2,
   "id": "c723e00b",
   "metadata": {},
   "outputs": [],
   "source": [
    "import math\n",
    "import numpy as np\n",
    "import matplotlib.pyplot as plt\n",
    "from src.neural_network import *"
   ]
  },
  {
   "cell_type": "code",
   "execution_count": 7,
   "id": "85ce5ede",
   "metadata": {},
   "outputs": [],
   "source": [
    "#Set the seed for random number generation\n",
    "seed = 123\n",
    "rng = np.random.default_rng(seed)\n",
    "\n",
    "#Load the mnist dataset\n",
    "dataset = load_mnist()\n",
    "\n",
    "# Shuffle the data and split it into training and testing sets\n",
    "row_amount, column_amount = dataset.shape\n",
    "rng.shuffle(dataset)\n",
    "\n",
    "testing_data = dataset[0:15000].T\n",
    "testing_data_Y = testing_data[0]\n",
    "testing_data_X = testing_data[1:column_amount] / 255\n",
    "\n",
    "training_data = dataset[15000:row_amount].T\n",
    "training_data_Y = training_data[0]\n",
    "training_data_X = training_data[1:column_amount] / 255"
   ]
  },
  {
   "cell_type": "code",
   "execution_count": null,
   "id": "e15ca18d",
   "metadata": {},
   "outputs": [],
   "source": [
    "# Initialise model and fit it to the training data\n",
    "model = NeuralNetwork(hidden_layers_amount=1, hidden_nodes_amount=20, learning_rate=.2, activation_function=\"relu\", seed=seed)\n",
    "model.fit(training_data_X, training_data_Y, epochs=500, batch_size=100, stopping_threshold=-1, dropout_rate=0.5)\n",
    "\n",
    "# Test the model against the testing data\n",
    "test_predictions = model.predict(testing_data_X)\n",
    "print(\"\\nAccuracy on testing data:\", calculate_accuracy(test_predictions, testing_data_Y))"
   ]
  },
  {
   "cell_type": "code",
   "execution_count": null,
   "id": "df703ed8",
   "metadata": {},
   "outputs": [],
   "source": []
  },
  {
   "cell_type": "code",
   "execution_count": null,
   "id": "6b0f1f00",
   "metadata": {},
   "outputs": [],
   "source": []
  },
  {
   "cell_type": "code",
   "execution_count": null,
   "id": "ff454ecf",
   "metadata": {},
   "outputs": [],
   "source": []
  },
  {
   "cell_type": "code",
   "execution_count": null,
   "id": "db6ff781",
   "metadata": {},
   "outputs": [],
   "source": []
  },
  {
   "cell_type": "code",
   "execution_count": null,
   "id": "e1df0849",
   "metadata": {},
   "outputs": [],
   "source": []
  },
  {
   "cell_type": "code",
   "execution_count": null,
   "id": "454ce616",
   "metadata": {},
   "outputs": [],
   "source": []
  },
  {
   "cell_type": "code",
   "execution_count": null,
   "id": "afc3778b",
   "metadata": {},
   "outputs": [],
   "source": []
  },
  {
   "cell_type": "code",
   "execution_count": null,
   "id": "b98e7bb0",
   "metadata": {},
   "outputs": [],
   "source": []
  },
  {
   "cell_type": "code",
   "execution_count": null,
   "id": "e4cba475",
   "metadata": {},
   "outputs": [],
   "source": []
  },
  {
   "cell_type": "code",
   "execution_count": null,
   "id": "b832d100",
   "metadata": {},
   "outputs": [],
   "source": []
  },
  {
   "cell_type": "code",
   "execution_count": null,
   "id": "21c5095f",
   "metadata": {},
   "outputs": [],
   "source": []
  },
  {
   "cell_type": "code",
   "execution_count": null,
   "id": "cc857347",
   "metadata": {},
   "outputs": [],
   "source": []
  },
  {
   "cell_type": "code",
   "execution_count": null,
   "id": "9e5c1cd6",
   "metadata": {},
   "outputs": [],
   "source": []
  },
  {
   "cell_type": "code",
   "execution_count": null,
   "id": "067d2d3d",
   "metadata": {},
   "outputs": [],
   "source": []
  },
  {
   "cell_type": "code",
   "execution_count": null,
   "id": "1aee0777",
   "metadata": {},
   "outputs": [],
   "source": []
  },
  {
   "cell_type": "code",
   "execution_count": null,
   "id": "6e4ce2f4",
   "metadata": {},
   "outputs": [],
   "source": []
  },
  {
   "cell_type": "code",
   "execution_count": null,
   "id": "34da7ac6",
   "metadata": {},
   "outputs": [],
   "source": []
  }
 ],
 "metadata": {
  "kernelspec": {
   "display_name": "Python 3 (ipykernel)",
   "language": "python",
   "name": "python3"
  },
  "language_info": {
   "codemirror_mode": {
    "name": "ipython",
    "version": 3
   },
   "file_extension": ".py",
   "mimetype": "text/x-python",
   "name": "python",
   "nbconvert_exporter": "python",
   "pygments_lexer": "ipython3",
   "version": "3.9.12"
  }
 },
 "nbformat": 4,
 "nbformat_minor": 5
}
